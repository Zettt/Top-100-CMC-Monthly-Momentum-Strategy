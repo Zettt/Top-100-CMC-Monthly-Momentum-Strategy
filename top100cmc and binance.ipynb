{
 "cells": [
  {
   "cell_type": "code",
   "execution_count": null,
   "metadata": {},
   "outputs": [],
   "source": [
    "import requests\n",
    "import json\n",
    "from dotenv import load_dotenv\n",
    "import os\n",
    "\n",
    "# Load environment variables\n",
    "load_dotenv()"
   ]
  },
  {
   "cell_type": "code",
   "execution_count": null,
   "metadata": {},
   "outputs": [],
   "source": [
    "MAX_PAIRS = 25\n",
    "CAPITAL= 100"
   ]
  },
  {
   "cell_type": "code",
   "execution_count": null,
   "metadata": {},
   "outputs": [],
   "source": [
    "def get_coinmarketcap_top100():\n",
    "    # Get API key from environment variables\n",
    "    cmc_key = os.getenv('CMC_KEY')\n",
    "    if not cmc_key:\n",
    "        raise ValueError(\"CoinMarketCap API key not found in environment variables\")\n",
    "\n",
    "    # Specify the endpoint\n",
    "    endpoint = 'https://pro-api.coinmarketcap.com/v1/cryptocurrency/listings/latest'\n",
    "\n",
    "    # Specify the parameters\n",
    "    parameters = {\n",
    "        'sort': 'market_cap',\n",
    "        'sort_dir': 'desc',\n",
    "        'cryptocurrency_type': 'all',\n",
    "        'limit': 100\n",
    "    }\n",
    "    # Send the request\n",
    "    headers = {'X-CMC_PRO_API_KEY': cmc_key}\n",
    "    response = requests.get(endpoint, headers=headers, params=parameters)\n",
    "\n",
    "    # Parse the response\n",
    "    data = json.loads(response.text)\n",
    "    coins = data['data']\n",
    "    # Filter out stablecoins and create pairs\n",
    "    stablecoins = ['USDC', 'USDT', 'BUSD', 'DAI', 'TUSD', 'FDUSD']\n",
    "    top100_symbols = [coin['symbol'] + \"USDC\" for coin in data['data'] \n",
    "                     if coin['symbol'] not in stablecoins]\n",
    "    # print(f'Top 100 Symbols: {top100_symbols}\\n')\n",
    "    return top100_symbols"
   ]
  },
  {
   "cell_type": "code",
   "execution_count": null,
   "metadata": {},
   "outputs": [],
   "source": [
    "def get_binance_usdt_pairs():\n",
    "    url = 'https://api.binance.com/api/v3/exchangeInfo'\n",
    "    response = requests.get(url)\n",
    "    data = response.json()\n",
    "    stablecoins = ['USDC', 'USDT', 'BUSD', 'DAI', 'TUSD']\n",
    "    usdt_pairs = [pair['symbol'] for pair in data['symbols'] \n",
    "                 if pair['quoteAsset'] == 'USDC' \n",
    "                 and pair['status'] == 'TRADING'\n",
    "                 and pair['baseAsset'] not in stablecoins]\n",
    "    # print(f'USDT Pairs: {usdt_pairs}\\n')\n",
    "    return usdt_pairs"
   ]
  },
  {
   "cell_type": "code",
   "execution_count": null,
   "metadata": {},
   "outputs": [],
   "source": [
    "def find_common_pairs(top100_symbols, usdt_pairs):\n",
    "    common_pairs = set(top100_symbols) & set(usdt_pairs)\n",
    "    # Convert to list and take only the first MAX_PAIRS pairs\n",
    "    # Since common_pairs is a set, we sort it to ensure consistent results\n",
    "    return list(sorted(common_pairs))[:MAX_PAIRS]"
   ]
  },
  {
   "cell_type": "code",
   "execution_count": null,
   "metadata": {},
   "outputs": [],
   "source": [
    "top100_symbols = get_coinmarketcap_top100()\n",
    "usdt_pairs = get_binance_usdt_pairs()\n",
    "common_pairs = find_common_pairs(top100_symbols, usdt_pairs)\n",
    "\n",
    "print(f\"Top {MAX_PAIRS} cryptocurrencies in the top 100 on CoinMarketCap which are tradeable on Binance (USDT pairs): \\n {common_pairs}\")\n",
    "print(f\"Number of pairs selected: {len(common_pairs)}\")"
   ]
  },
  {
   "cell_type": "code",
   "execution_count": null,
   "metadata": {},
   "outputs": [],
   "source": [
    "capital_per_pair = CAPITAL / len(common_pairs)\n",
    "print(f\"With ${CAPITAL} total capital, you can spend ${capital_per_pair:.2f} on each of the {len(common_pairs)} pairs\")"
   ]
  },
  {
   "cell_type": "code",
   "execution_count": null,
   "metadata": {},
   "outputs": [],
   "source": [
    "# TODO: use ccxt to get the usd-equivalent balance of my account\n",
    "# TODO: use capital_per_pair to calculate the difference between the current balance and capital_per_pair\n",
    "# TODO: execute buy or sell to make the balance equal to capital_per_pair\n",
    "# TODO: buy any coins that are not in the account\n",
    "# TODO: sell any coins that are not in the common_pairs list"
   ]
  },
  {
   "cell_type": "code",
   "execution_count": null,
   "metadata": {},
   "outputs": [],
   "source": [
    "import ccxt\n",
    "\n",
    "# Get API credentials from environment variables\n",
    "binance_api_key = os.getenv('BINANCE_API_KEY')\n",
    "binance_api_secret = os.getenv('BINANCE_API_SECRET')\n",
    "\n",
    "if not binance_api_key or not binance_api_secret:\n",
    "    raise ValueError(\"Binance API credentials not found in environment variables\")\n",
    "\n",
    "# Initialize Binance exchange\n",
    "exchange = ccxt.binance({\n",
    "    'apiKey': binance_api_key,\n",
    "    'secret': binance_api_secret,\n",
    "    'enableRateLimit': True\n",
    "})\n",
    "\n",
    "# Fetch balance\n",
    "balance = exchange.fetch_balance()\n",
    "\n",
    "# Calculate USD equivalent for each coin in common_pairs\n",
    "usd_balances = {}\n",
    "for pair in common_pairs:\n",
    "    # Extract base currency (remove 'USDC' from the end)\n",
    "    base_currency = pair[:-4]\n",
    "    \n",
    "    # Get the balance for this currency\n",
    "    amount = float(balance['total'].get(base_currency, 0))\n",
    "    \n",
    "    if amount > 0:\n",
    "        # Fetch current price in USDC\n",
    "        try:\n",
    "            ticker = exchange.fetch_ticker(pair)\n",
    "            price = ticker['last']\n",
    "            usd_value = amount * price\n",
    "            usd_balances[base_currency] = {\n",
    "                'amount': amount,\n",
    "                'usd_value': usd_value\n",
    "            }\n",
    "        except:\n",
    "            print(f\"Could not fetch price for {pair}\")\n",
    "\n",
    "# Print results\n",
    "for currency, data in usd_balances.items():\n",
    "    print(f\"{currency}: {data['amount']:.8f} coins = ${data['usd_value']:.2f}\")\n",
    "\n",
    "total_usd_value = sum(data['usd_value'] for data in usd_balances.values())\n",
    "print(f\"\\nTotal portfolio value: ${total_usd_value:.2f}\")"
   ]
  },
  {
   "cell_type": "code",
   "execution_count": null,
   "metadata": {},
   "outputs": [],
   "source": []
  }
 ],
 "metadata": {
  "kernelspec": {
   "display_name": ".venv",
   "language": "python",
   "name": "python3"
  },
  "language_info": {
   "codemirror_mode": {
    "name": "ipython",
    "version": 3
   },
   "file_extension": ".py",
   "mimetype": "text/x-python",
   "name": "python",
   "nbconvert_exporter": "python",
   "pygments_lexer": "ipython3",
   "version": "3.13.2"
  }
 },
 "nbformat": 4,
 "nbformat_minor": 2
}
