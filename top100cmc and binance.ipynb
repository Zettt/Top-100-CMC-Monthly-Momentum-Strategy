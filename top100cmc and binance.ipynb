{
 "cells": [
  {
   "cell_type": "code",
   "execution_count": null,
   "metadata": {},
   "outputs": [],
   "source": [
    "import requests\n",
    "import json\n",
    "from dotenv import load_dotenv\n",
    "import os\n",
    "\n",
    "# Load environment variables\n",
    "load_dotenv()\n",
    "\n",
    "# Add this near the top with other constants\n",
    "MAX_PAIRS = 25"
   ]
  },
  {
   "cell_type": "code",
   "execution_count": null,
   "metadata": {},
   "outputs": [],
   "source": [
    "def get_coinmarketcap_top100():\n",
    "    # Get API key from environment variables\n",
    "    cmc_key = os.getenv('CMC_KEY')\n",
    "    if not cmc_key:\n",
    "        raise ValueError(\"CoinMarketCap API key not found in environment variables\")\n",
    "\n",
    "    # Specify the endpoint\n",
    "    endpoint = 'https://pro-api.coinmarketcap.com/v1/cryptocurrency/listings/latest'\n",
    "\n",
    "    # Specify the parameters\n",
    "    parameters = {\n",
    "        'sort': 'market_cap',\n",
    "        'sort_dir': 'desc',\n",
    "        'cryptocurrency_type': 'all',\n",
    "        'limit': 100\n",
    "    }\n",
    "    # Send the request\n",
    "    headers = {'X-CMC_PRO_API_KEY': cmc_key}\n",
    "    response = requests.get(endpoint, headers=headers, params=parameters)\n",
    "\n",
    "    # Parse the response\n",
    "    data = json.loads(response.text)\n",
    "    coins = data['data']\n",
    "    # Filter out stablecoins and create pairs\n",
    "    stablecoins = ['USDC', 'USDT', 'BUSD', 'DAI', 'TUSD']\n",
    "    top100_symbols = [coin['symbol'] + \"USDC\" for coin in data['data'] \n",
    "                     if coin['symbol'] not in stablecoins]\n",
    "    # print(f'Top 100 Symbols: {top100_symbols}\\n')\n",
    "    return top100_symbols"
   ]
  },
  {
   "cell_type": "code",
   "execution_count": null,
   "metadata": {},
   "outputs": [],
   "source": [
    "def get_binance_usdt_pairs():\n",
    "    url = 'https://api.binance.com/api/v3/exchangeInfo'\n",
    "    response = requests.get(url)\n",
    "    data = response.json()\n",
    "    stablecoins = ['USDC', 'USDT', 'BUSD', 'DAI', 'TUSD']\n",
    "    usdt_pairs = [pair['symbol'] for pair in data['symbols'] \n",
    "                 if pair['quoteAsset'] == 'USDC' \n",
    "                 and pair['status'] == 'TRADING'\n",
    "                 and pair['baseAsset'] not in stablecoins]\n",
    "    # print(f'USDT Pairs: {usdt_pairs}\\n')\n",
    "    return usdt_pairs"
   ]
  },
  {
   "cell_type": "code",
   "execution_count": null,
   "metadata": {},
   "outputs": [],
   "source": [
    "def find_common_pairs(top100_symbols, usdt_pairs):\n",
    "    common_pairs = set(top100_symbols) & set(usdt_pairs)\n",
    "    # Convert to list and take only the first MAX_PAIRS pairs\n",
    "    # Since common_pairs is a set, we sort it to ensure consistent results\n",
    "    return list(sorted(common_pairs))[:MAX_PAIRS]\n"
   ]
  },
  {
   "cell_type": "code",
   "execution_count": null,
   "metadata": {},
   "outputs": [
    {
     "name": "stdout",
     "output_type": "stream",
     "text": [
      "['BTCUSDC', 'ETHUSDC', 'USDTUSDC', 'XRPUSDC', 'BNBUSDC', 'SOLUSDC', 'USDCUSDC', 'ADAUSDC', 'DOGEUSDC', 'TRXUSDC', 'PIUSDC', 'HBARUSDC', 'LINKUSDC', 'LEOUSDC', 'XLMUSDC', 'AVAXUSDC', 'SUIUSDC', 'LTCUSDC', 'SHIBUSDC', 'TONUSDC', 'OMUSDC', 'BCHUSDC', 'DOTUSDC', 'HYPEUSDC', 'USDeUSDC', 'DAIUSDC', 'BGBUSDC', 'UNIUSDC', 'XMRUSDC', 'NEARUSDC', 'APTUSDC', 'AAVEUSDC', 'ONDOUSDC', 'PEPEUSDC', 'ICPUSDC', 'ETCUSDC', 'TRUMPUSDC', 'OKBUSDC', 'MNTUSDC', 'TAOUSDC', 'VETUSDC', 'POLUSDC', 'FDUSDUSDC', 'ALGOUSDC', 'CROUSDC', 'KASUSDC', 'FILUSDC', 'GTUSDC', 'TIAUSDC', 'RENDERUSDC', 'JUPUSDC', 'ARBUSDC', 'ATOMUSDC', 'SUSDC', 'DEXEUSDC', 'OPUSDC', 'KCSUSDC', 'FETUSDC', 'IPUSDC', 'XDCUSDC', 'ENAUSDC', 'MKRUSDC', 'INJUSDC', 'IMXUSDC', 'QNTUSDC', 'STXUSDC', 'THETAUSDC', 'WLDUSDC', 'SEIUSDC', 'GRTUSDC', 'LDOUSDC', 'FLRUSDC', 'MOVEUSDC', 'BONKUSDC', 'JASMYUSDC', 'EOSUSDC', 'IOTAUSDC', 'PYUSDUSDC', 'XTZUSDC', 'SANDUSDC', 'NEXOUSDC', 'BERAUSDC', 'ENSUSDC', 'XAUtUSDC', 'JTOUSDC', 'FLOKIUSDC', 'KAIAUSDC', 'BTTUSDC', 'FLOWUSDC', 'BSVUSDC', 'GALAUSDC', 'PYTHUSDC', 'RAYUSDC', 'NEOUSDC', 'PAXGUSDC', 'EGLDUSDC', 'ZECUSDC', 'VIRTUALUSDC', 'WIFUSDC', 'GRASSUSDC']\n",
      "Cryptocurrencies in the top 100 on CoinMarketCap which are tradeable on Binance (USDT pairs): \n",
      " {'JUPUSDC', 'BTCUSDC', 'KAIAUSDC', 'LDOUSDC', 'ALGOUSDC', 'SEIUSDC', 'TRXUSDC', 'HBARUSDC', 'TONUSDC', 'FETUSDC', 'SUIUSDC', 'XLMUSDC', 'ATOMUSDC', 'POLUSDC', 'RAYUSDC', 'OPUSDC', 'LINKUSDC', 'INJUSDC', 'UNIUSDC', 'ADAUSDC', 'FLOKIUSDC', 'BERAUSDC', 'SHIBUSDC', 'LTCUSDC', 'TIAUSDC', 'EOSUSDC', 'JTOUSDC', 'ETHUSDC', 'PEPEUSDC', 'SOLUSDC', 'ENAUSDC', 'STXUSDC', 'NEARUSDC', 'TAOUSDC', 'NEOUSDC', 'AVAXUSDC', 'RENDERUSDC', 'GALAUSDC', 'BCHUSDC', 'XRPUSDC', 'FDUSDUSDC', 'MOVEUSDC', 'BONKUSDC', 'ARBUSDC', 'OMUSDC', 'WLDUSDC', 'AAVEUSDC', 'ENSUSDC', 'ICPUSDC', 'FILUSDC', 'SANDUSDC', 'WIFUSDC', 'XTZUSDC', 'TRUMPUSDC', 'SUSDC', 'PYTHUSDC', 'BNBUSDC', 'DOTUSDC', 'DOGEUSDC', 'APTUSDC'}\n",
      "Number of common pairs: 60\n"
     ]
    }
   ],
   "source": [
    "top100_symbols = get_coinmarketcap_top100()\n",
    "usdt_pairs = get_binance_usdt_pairs()\n",
    "common_pairs = find_common_pairs(top100_symbols, usdt_pairs)\n",
    "\n",
    "print(f\"Top {MAX_PAIRS} cryptocurrencies in the top 100 on CoinMarketCap which are tradeable on Binance (USDT pairs): \\n {common_pairs}\")\n",
    "print(f\"Number of pairs selected: {len(common_pairs)}\")"
   ]
  },
  {
   "cell_type": "code",
   "execution_count": null,
   "metadata": {},
   "outputs": [
    {
     "name": "stdout",
     "output_type": "stream",
     "text": [
      "With $200 total capital, you can spend $3.33 on each of the 60 pairs\n"
     ]
    }
   ],
   "source": [
    "capital= 200\n",
    "capital_per_pair = capital / len(common_pairs)\n",
    "print(f\"With ${capital} total capital, you can spend ${capital_per_pair:.2f} on each of the {len(common_pairs)} pairs\")\n"
   ]
  }
 ],
 "metadata": {
  "kernelspec": {
   "display_name": ".venv",
   "language": "python",
   "name": "python3"
  },
  "language_info": {
   "codemirror_mode": {
    "name": "ipython",
    "version": 3
   },
   "file_extension": ".py",
   "mimetype": "text/x-python",
   "name": "python",
   "nbconvert_exporter": "python",
   "pygments_lexer": "ipython3",
   "version": "3.13.2"
  }
 },
 "nbformat": 4,
 "nbformat_minor": 2
}
