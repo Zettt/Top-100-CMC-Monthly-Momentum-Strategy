{
 "cells": [
  {
   "cell_type": "code",
   "execution_count": 10,
   "metadata": {},
   "outputs": [],
   "source": [
    "import requests\n",
    "import json"
   ]
  },
  {
   "cell_type": "code",
   "execution_count": null,
   "metadata": {},
   "outputs": [],
   "source": [
    "def get_coinmarketcap_top100():\n",
    "    # Register for an API key on the CoinMarketCap website\n",
    "    api_key = \"042cd680-7fd7-4aab-a032-fba9e75b7fc2\"\n",
    "\n",
    "    # Specify the endpoint\n",
    "    endpoint = 'https://pro-api.coinmarketcap.com/v1/cryptocurrency/listings/latest'\n",
    "\n",
    "    # Specify the parameters\n",
    "    parameters = {\n",
    "        'sort': 'market_cap',\n",
    "        'sort_dir': 'desc',\n",
    "        'cryptocurrency_type': 'all',\n",
    "        'limit': 100\n",
    "    }\n",
    "    # Send the request\n",
    "    headers = {'X-CMC_PRO_API_KEY': api_key}\n",
    "    response = requests.get(endpoint, headers=headers, params=parameters)\n",
    "\n",
    "    # Parse the response\n",
    "    data = json.loads(response.text)\n",
    "    coins = data['data']\n",
    "    top100_symbols = [coin['symbol'] + \"USDT\" for coin in data['data']]\n",
    "    # print(f'Top 100 Symbols: {top100_symbols}\\n')\n",
    "    return top100_symbols"
   ]
  },
  {
   "cell_type": "code",
   "execution_count": 12,
   "metadata": {},
   "outputs": [],
   "source": [
    "def get_binance_usdt_pairs():\n",
    "    url = 'https://api.binance.com/api/v3/exchangeInfo'\n",
    "    response = requests.get(url)\n",
    "    data = response.json()\n",
    "    usdt_pairs = [pair['symbol'] for pair in data['symbols'] if pair['quoteAsset'] == 'USDT' and pair['status'] == 'TRADING']\n",
    "    # print(f'USDT Pairs: {usdt_pairs}\\n')\n",
    "    return usdt_pairs"
   ]
  },
  {
   "cell_type": "code",
   "execution_count": 13,
   "metadata": {},
   "outputs": [],
   "source": [
    "def find_common_pairs(top100_symbols, usdt_pairs):\n",
    "    common_pairs = set(top100_symbols) & set(usdt_pairs)\n",
    "    return common_pairs\n"
   ]
  },
  {
   "cell_type": "code",
   "execution_count": 14,
   "metadata": {},
   "outputs": [
    {
     "name": "stdout",
     "output_type": "stream",
     "text": [
      "Cryptocurrencies in the top 100 on CoinMarketCap which are tradeable on Binance (USDT pairs): \n",
      " {'SOLUSDT', 'BCHUSDT', 'ETCUSDT', 'DOGEUSDT', 'ICPUSDT', 'HBARUSDT', 'LINKUSDT', 'RENDERUSDT', 'TRXUSDT', 'TONUSDT', 'TIAUSDT', 'DOTUSDT', 'FDUSDUSDT', 'ALGOUSDT', 'ETHUSDT', 'XLMUSDT', 'USDCUSDT', 'LTCUSDT', 'TRUMPUSDT', 'SUIUSDT', 'ADAUSDT', 'APTUSDT', 'PEPEUSDT', 'FILUSDT', 'OMUSDT', 'AAVEUSDT', 'AVAXUSDT', 'BNBUSDT', 'SHIBUSDT', 'NEARUSDT', 'POLUSDT', 'VETUSDT', 'XRPUSDT', 'BTCUSDT', 'TAOUSDT', 'UNIUSDT'}\n",
      "Number of common pairs: 36\n"
     ]
    }
   ],
   "source": [
    "top100_symbols = get_coinmarketcap_top100()\n",
    "usdt_pairs = get_binance_usdt_pairs()\n",
    "common_pairs = find_common_pairs(top100_symbols, usdt_pairs)\n",
    "\n",
    "print(f\"Cryptocurrencies in the top 100 on CoinMarketCap which are tradeable on Binance (USDT pairs): \\n {common_pairs}\")\n",
    "print(f\"Number of common pairs: {len(common_pairs)}\")"
   ]
  },
  {
   "cell_type": "code",
   "execution_count": 18,
   "metadata": {},
   "outputs": [
    {
     "name": "stdout",
     "output_type": "stream",
     "text": [
      "With $200 total capital, you can spend $5.56 on each of the 36 pairs\n"
     ]
    }
   ],
   "source": [
    "capital= 200\n",
    "capital_per_pair = capital / len(common_pairs)\n",
    "print(f\"With ${capital} total capital, you can spend ${capital_per_pair:.2f} on each of the {len(common_pairs)} pairs\")"
   ]
  }
 ],
 "metadata": {
  "kernelspec": {
   "display_name": ".venv",
   "language": "python",
   "name": "python3"
  },
  "language_info": {
   "codemirror_mode": {
    "name": "ipython",
    "version": 3
   },
   "file_extension": ".py",
   "mimetype": "text/x-python",
   "name": "python",
   "nbconvert_exporter": "python",
   "pygments_lexer": "ipython3",
   "version": "3.13.2"
  }
 },
 "nbformat": 4,
 "nbformat_minor": 2
}
